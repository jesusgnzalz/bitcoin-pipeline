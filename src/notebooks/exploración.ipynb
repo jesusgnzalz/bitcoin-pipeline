{
 "cells": [
  {
   "cell_type": "code",
   "execution_count": 7,
   "metadata": {},
   "outputs": [
    {
     "name": "stdout",
     "output_type": "stream",
     "text": [
      "✅ Archivo encontrado en: C:/Users/Jesus/Documents/DS_Online_Octubre24_Exercises/05_Deep_Learning/Sprint_17/Team_Challenge/bitcoin-pipeline/src/data\\bitcoin_historical_data.csv\n",
      "\n",
      "🔹 Información del dataset:\n",
      "<class 'pandas.core.frame.DataFrame'>\n",
      "RangeIndex: 6781281 entries, 0 to 6781280\n",
      "Data columns (total 6 columns):\n",
      " #   Column     Dtype  \n",
      "---  ------     -----  \n",
      " 0   Timestamp  float64\n",
      " 1   Open       float64\n",
      " 2   High       float64\n",
      " 3   Low        float64\n",
      " 4   Close      float64\n",
      " 5   Volume     float64\n",
      "dtypes: float64(6)\n",
      "memory usage: 310.4 MB\n",
      "None\n",
      "\n",
      "🔹 Primeras filas del dataset:\n",
      "      Timestamp  Open  High   Low  Close  Volume\n",
      "0  1.325412e+09  4.58  4.58  4.58   4.58     0.0\n",
      "1  1.325412e+09  4.58  4.58  4.58   4.58     0.0\n",
      "2  1.325412e+09  4.58  4.58  4.58   4.58     0.0\n",
      "3  1.325412e+09  4.58  4.58  4.58   4.58     0.0\n",
      "4  1.325412e+09  4.58  4.58  4.58   4.58     0.0\n",
      "\n",
      "🔹 Valores nulos por columna:\n",
      "Timestamp    1\n",
      "Open         0\n",
      "High         0\n",
      "Low          0\n",
      "Close        0\n",
      "Volume       0\n",
      "dtype: int64\n",
      "\n",
      "🔹 Estadísticas descriptivas:\n",
      "          Timestamp          Open          High           Low         Close  \\\n",
      "count  6.781280e+06  6.781281e+06  6.781281e+06  6.781281e+06  6.781281e+06   \n",
      "mean   1.528948e+09  1.509086e+04  1.509729e+04  1.508421e+04  1.509087e+04   \n",
      "std    1.175994e+08  2.071437e+04  2.072215e+04  2.070639e+04  2.071439e+04   \n",
      "min    1.325412e+09  3.800000e+00  3.800000e+00  3.800000e+00  3.800000e+00   \n",
      "25%    1.427142e+09  4.151000e+02  4.152100e+02  4.150000e+02  4.150900e+02   \n",
      "50%    1.528872e+09  6.328000e+03  6.329980e+03  6.325810e+03  6.328000e+03   \n",
      "75%    1.630602e+09  2.373600e+04  2.374400e+04  2.372700e+04  2.373570e+04   \n",
      "max    1.741824e+09  1.089460e+05  1.090300e+05  1.087760e+05  1.089600e+05   \n",
      "\n",
      "             Volume  \n",
      "count  6.781281e+06  \n",
      "mean   5.438073e+00  \n",
      "std    2.287123e+01  \n",
      "min    0.000000e+00  \n",
      "25%    1.848367e-02  \n",
      "50%    4.970804e-01  \n",
      "75%    3.156358e+00  \n",
      "max    5.853852e+03  \n"
     ]
    }
   ],
   "source": [
    "import os\n",
    "import pandas as pd\n",
    "\n",
    "# Definir la ruta del archivo CSV\n",
    "data_path = \"C:/Users/Jesus/Documents/DS_Online_Octubre24_Exercises/05_Deep_Learning/Sprint_17/Team_Challenge/bitcoin-pipeline/src/data\"\n",
    "file_name = \"bitcoin_historical_data.csv\"\n",
    "file_path = os.path.join(data_path, file_name)\n",
    "\n",
    "# Verificar si el archivo existe antes de cargarlo\n",
    "if os.path.exists(file_path):\n",
    "    print(f\"✅ Archivo encontrado en: {file_path}\")\n",
    "else:\n",
    "    raise FileNotFoundError(f\"❌ Archivo NO encontrado en: {file_path}\")\n",
    "\n",
    "# Cargar los datos\n",
    "df = pd.read_csv(file_path)\n",
    "\n",
    "# Mostrar información del dataset\n",
    "print(\"\\n🔹 Información del dataset:\")\n",
    "print(df.info())\n",
    "\n",
    "# Mostrar primeras filas\n",
    "print(\"\\n🔹 Primeras filas del dataset:\")\n",
    "print(df.head())\n",
    "\n",
    "# Revisar valores nulos\n",
    "print(\"\\n🔹 Valores nulos por columna:\")\n",
    "print(df.isnull().sum())\n",
    "\n",
    "# Estadísticas descriptivas\n",
    "print(\"\\n🔹 Estadísticas descriptivas:\")\n",
    "print(df.describe())\n"
   ]
  },
  {
   "cell_type": "code",
   "execution_count": 8,
   "metadata": {},
   "outputs": [
    {
     "name": "stdout",
     "output_type": "stream",
     "text": [
      "\n",
      "🔹 Nulos después de limpieza: 0\n"
     ]
    }
   ],
   "source": [
    "# Convertir la columna Timestamp a formato datetime si existe\n",
    "if 'Timestamp' in df.columns:\n",
    "    df['Timestamp'] = pd.to_datetime(df['Timestamp'], unit='s')\n",
    "    df.set_index('Timestamp', inplace=True)\n",
    "\n",
    "# Eliminar filas con valores nulos\n",
    "df = df.dropna()\n",
    "\n",
    "# Confirmar que los nulos han sido eliminados\n",
    "print(\"\\n🔹 Nulos después de limpieza:\", df.isnull().sum().sum())\n"
   ]
  },
  {
   "cell_type": "code",
   "execution_count": 9,
   "metadata": {},
   "outputs": [
    {
     "name": "stdout",
     "output_type": "stream",
     "text": [
      "\n",
      "✅ Datos divididos correctamente.\n",
      "📊 Tamaño Train: 5425024 filas\n",
      "📊 Tamaño Test: 1356257 filas\n"
     ]
    }
   ],
   "source": [
    "from sklearn.model_selection import train_test_split\n",
    "\n",
    "# Seleccionar las características (X) y la variable objetivo (y)\n",
    "X = df.drop(columns=['Close'])  # Eliminar 'Close' si es nuestro target\n",
    "y = df['Close']  # Precio de cierre como variable objetivo\n",
    "\n",
    "# División en 80% train - 20% test\n",
    "X_train, X_test, y_train, y_test = train_test_split(X, y, test_size=0.2, random_state=42, shuffle=False)\n",
    "\n",
    "print(\"\\n✅ Datos divididos correctamente.\")\n",
    "print(f\"📊 Tamaño Train: {X_train.shape[0]} filas\")\n",
    "print(f\"📊 Tamaño Test: {X_test.shape[0]} filas\")\n"
   ]
  },
  {
   "cell_type": "code",
   "execution_count": 10,
   "metadata": {},
   "outputs": [
    {
     "name": "stdout",
     "output_type": "stream",
     "text": [
      "\n",
      "✅ Datos guardados en 'src/data/' como 'bitcoin_train.csv' y 'bitcoin_test.csv'\n"
     ]
    }
   ],
   "source": [
    "# Definir rutas\n",
    "train_file = os.path.join(data_path, \"bitcoin_train.csv\")\n",
    "test_file = os.path.join(data_path, \"bitcoin_test.csv\")\n",
    "\n",
    "# Guardar archivos\n",
    "X_train.to_csv(train_file, index=False)\n",
    "X_test.to_csv(test_file, index=False)\n",
    "\n",
    "print(\"\\n✅ Datos guardados en 'src/data/' como 'bitcoin_train.csv' y 'bitcoin_test.csv'\")\n"
   ]
  }
 ],
 "metadata": {
  "kernelspec": {
   "display_name": "Python 3",
   "language": "python",
   "name": "python3"
  },
  "language_info": {
   "codemirror_mode": {
    "name": "ipython",
    "version": 3
   },
   "file_extension": ".py",
   "mimetype": "text/x-python",
   "name": "python",
   "nbconvert_exporter": "python",
   "pygments_lexer": "ipython3",
   "version": "3.13.0"
  }
 },
 "nbformat": 4,
 "nbformat_minor": 2
}
