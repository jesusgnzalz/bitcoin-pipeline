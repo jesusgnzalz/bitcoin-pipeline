{
 "cells": [
  {
   "cell_type": "code",
   "execution_count": 3,
   "metadata": {},
   "outputs": [
    {
     "name": "stdout",
     "output_type": "stream",
     "text": [
      "\n",
      "Cargando el modelo...\n",
      "\n",
      "✅ Modelo cargado correctamente.\n",
      "\n",
      "✅ Datos de prueba cargados.\n",
      "\n",
      "Tamaño del dataset de prueba: (1356257, 5)\n",
      "\n",
      "🔹 Realizando predicciones...\n",
      "\n",
      "🔹 Resultados del modelo:\n",
      "📉 MAE (Error Absoluto Medio): 5846.1644\n",
      "📉 MSE (Error Cuadrático Medio): 94486921.0835\n",
      "📈 R² (Coeficiente de determinación): 0.7966\n",
      "\n",
      "✅ Predicciones guardadas en: C:/Users/Jesus/Documents/DS_Online_Octubre24_Exercises/05_Deep_Learning/Sprint_17/Team_Challenge/bitcoin-pipeline/src/data/bitcoin_predictions.csv\n"
     ]
    }
   ],
   "source": [
    "import os\n",
    "import pandas as pd\n",
    "import joblib\n",
    "from sklearn.metrics import mean_absolute_error, mean_squared_error, r2_score\n",
    "\n",
    "print(\"\\nCargando el modelo...\")\n",
    "\n",
    "# Definir rutas de archivos\n",
    "data_path = \"C:/Users/Jesus/Documents/DS_Online_Octubre24_Exercises/05_Deep_Learning/Sprint_17/Team_Challenge/bitcoin-pipeline/src/data\"\n",
    "model_path = \"C:/Users/Jesus/Documents/DS_Online_Octubre24_Exercises/05_Deep_Learning/Sprint_17/Team_Challenge/bitcoin-pipeline/src/models/bitcoin_pipeline.pkl\"\n",
    "\n",
    "# Verificar si el modelo existe\n",
    "if not os.path.exists(model_path):\n",
    "    raise FileNotFoundError(f\"\\n❌ El modelo no existe en: {model_path}\")\n",
    "\n",
    "# Cargar el modelo entrenado\n",
    "pipeline = joblib.load(model_path)\n",
    "print(\"\\n✅ Modelo cargado correctamente.\")\n",
    "\n",
    "# Cargar los datos de prueba\n",
    "test_file = os.path.join(data_path, \"bitcoin_test.csv\")\n",
    "\n",
    "if not os.path.exists(test_file):\n",
    "    raise FileNotFoundError(f\"\\n❌ No se encontró el archivo de test en: {test_file}\")\n",
    "\n",
    "df_test = pd.read_csv(test_file)\n",
    "\n",
    "print(\"\\n✅ Datos de prueba cargados.\")\n",
    "print(\"\\nTamaño del dataset de prueba:\", df_test.shape)\n",
    "\n",
    "# Selección de características y variable objetivo\n",
    "X_test = df_test.drop(columns=['Close'])\n",
    "y_test = df_test['Close']\n",
    "\n",
    "print(\"\\n🔹 Realizando predicciones...\")\n",
    "y_pred = pipeline.predict(X_test)\n",
    "\n",
    "# Evaluación del modelo\n",
    "mae = mean_absolute_error(y_test, y_pred)\n",
    "mse = mean_squared_error(y_test, y_pred)\n",
    "r2 = r2_score(y_test, y_pred)\n",
    "\n",
    "# Mostrar resultados\n",
    "print(\"\\n🔹 Resultados del modelo:\")\n",
    "print(f\"📉 MAE (Error Absoluto Medio): {mae:.4f}\")\n",
    "print(f\"📉 MSE (Error Cuadrático Medio): {mse:.4f}\")\n",
    "print(f\"📈 R² (Coeficiente de determinación): {r2:.4f}\")\n",
    "\n",
    "# Guardar las predicciones en un archivo CSV\n",
    "results_df = pd.DataFrame({'Actual': y_test, 'Predicted': y_pred})\n",
    "results_file = f\"{data_path}/bitcoin_predictions.csv\"\n",
    "results_df.to_csv(results_file, index=False)\n",
    "\n",
    "print(f\"\\n✅ Predicciones guardadas en: {results_file}\")\n"
   ]
  }
 ],
 "metadata": {
  "kernelspec": {
   "display_name": "Python 3",
   "language": "python",
   "name": "python3"
  },
  "language_info": {
   "codemirror_mode": {
    "name": "ipython",
    "version": 3
   },
   "file_extension": ".py",
   "mimetype": "text/x-python",
   "name": "python",
   "nbconvert_exporter": "python",
   "pygments_lexer": "ipython3",
   "version": "3.13.0"
  }
 },
 "nbformat": 4,
 "nbformat_minor": 2
}
